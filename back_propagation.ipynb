{
 "cells": [
  {
   "cell_type": "code",
   "execution_count": 1,
   "metadata": {},
   "outputs": [],
   "source": [
    "import numpy as np\n",
    "\n",
    "\n",
    "def sigmoid(g):\n",
    "    return 1 / (1 + np.exp(-2 * g))\n",
    "\n",
    "\n",
    "def sigmoid_gradient(g):\n",
    "    return g * (1 - g)\n",
    "\n",
    "\n",
    "def feedForwardProp(input_layer, output_layer, hidden_weights, output_weights, bias):\n",
    "    z2 = np.dot(input_layer, hidden_weights)\n",
    "    a2 = sigmoid(z2)\n",
    "    a2 = a2.T\n",
    "    a2 = np.vstack((a2, bias)).T\n",
    "    z3 = np.dot(a2, output_weights)\n",
    "    a3 = sigmoid(z3)\n",
    "    return a2, a3, hidden_weights, output_weights\n",
    "\n",
    "\n",
    "def backPropogation(input_layer, output_layer, hidden_weights, output_weights, bias, iterations):\n",
    "    for _ in range(iterations):\n",
    "        a2, a3, hidden_weights, output_weights = feedForwardProp(\n",
    "            input_layer, output_layer, hidden_weights, output_weights, bias)\n",
    "\n",
    "        error_a3 = output_layer - a3\n",
    "        error_a2 = np.dot(error_a3, output_weights[0:2, :].T) * \\\n",
    "            sigmoid(np.dot(input_layer, hidden_weights))\n",
    "\n",
    "        delta_a3 = error_a3 * sigmoid_gradient(a3)\n",
    "        delta_a2 = error_a2 * sigmoid_gradient(a2[:, 0:2])\n",
    "\n",
    "        # Update weights\n",
    "        output_weights += np.dot(a2.T, delta_a3)\n",
    "        hidden_weights += np.dot(input_layer.T, delta_a2)\n",
    "\n",
    "    return a3"
   ]
  },
  {
   "cell_type": "code",
   "execution_count": 2,
   "metadata": {},
   "outputs": [
    {
     "name": "stdout",
     "output_type": "stream",
     "text": [
      "[[0.00799726]\n",
      " [0.99314091]\n",
      " [0.99314098]\n",
      " [0.00712188]]\n"
     ]
    }
   ],
   "source": [
    "# Data\n",
    "input_layer = np.array([[0, 0, 1], [0, 1, 1], [1, 0, 1], [1, 1, 1]])\n",
    "output_layer = np.array([[0, 1, 1, 0]]).T\n",
    "\n",
    "# Randomly initialising weights\n",
    "np.random.seed(1)\n",
    "hidden_weights = np.random.random((3, 2))\n",
    "output_weights = np.random.random((3, 1))\n",
    "\n",
    "# Number of iterations\n",
    "iterations = 10000\n",
    "\n",
    "# Bias term\n",
    "bias = np.ones((1, 4))\n",
    "\n",
    "print(backPropogation(input_layer, output_layer, hidden_weights, output_weights, bias, iterations))"
   ]
  },
  {
   "cell_type": "code",
   "execution_count": null,
   "metadata": {},
   "outputs": [],
   "source": []
  }
 ],
 "metadata": {
  "kernelspec": {
   "display_name": "Python 3",
   "language": "python",
   "name": "python3"
  },
  "language_info": {
   "codemirror_mode": {
    "name": "ipython",
    "version": 3
   },
   "file_extension": ".py",
   "mimetype": "text/x-python",
   "name": "python",
   "nbconvert_exporter": "python",
   "pygments_lexer": "ipython3",
   "version": "3.7.3"
  }
 },
 "nbformat": 4,
 "nbformat_minor": 2
}
